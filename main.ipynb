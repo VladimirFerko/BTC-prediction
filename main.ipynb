{
 "cells": [
  {
   "cell_type": "markdown",
   "id": "6da9a03c-9143-460c-9804-9296ee4c9767",
   "metadata": {},
   "source": [
    "# Machine Learning project for predicting BTC price\n",
    "- dataset -> kaggle.com"
   ]
  },
  {
   "cell_type": "code",
   "execution_count": 1,
   "id": "5b5971d0-b503-4b88-8f20-cc5faa488b8b",
   "metadata": {},
   "outputs": [],
   "source": [
    "# imports\n",
    "\n",
    "import pandas as pd\n",
    "import numpy as np\n",
    "import joblib\n",
    "from datetime import datetime\n",
    "from matplotlib import pyplot as plt\n",
    "from sklearn.linear_model import LinearRegression\n",
    "from sklearn.model_selection import train_test_split"
   ]
  },
  {
   "cell_type": "markdown",
   "id": "8a705e88-b13e-4530-abf9-abaf1135ee64",
   "metadata": {},
   "source": [
    "### Reading CSV file and getting basic info about the dataframe"
   ]
  },
  {
   "cell_type": "code",
   "execution_count": 2,
   "id": "f1b01ff1-3610-4766-9d0d-e5d44fb89ab1",
   "metadata": {},
   "outputs": [],
   "source": [
    "# read csv\n",
    "\n",
    "df = pd.read_csv(r'data/data.csv')"
   ]
  },
  {
   "cell_type": "code",
   "execution_count": 3,
   "id": "8d9baa05-78de-4725-8739-aefde33c30e7",
   "metadata": {},
   "outputs": [
    {
     "data": {
      "text/html": [
       "<div>\n",
       "<style scoped>\n",
       "    .dataframe tbody tr th:only-of-type {\n",
       "        vertical-align: middle;\n",
       "    }\n",
       "\n",
       "    .dataframe tbody tr th {\n",
       "        vertical-align: top;\n",
       "    }\n",
       "\n",
       "    .dataframe thead th {\n",
       "        text-align: right;\n",
       "    }\n",
       "</style>\n",
       "<table border=\"1\" class=\"dataframe\">\n",
       "  <thead>\n",
       "    <tr style=\"text-align: right;\">\n",
       "      <th></th>\n",
       "      <th>Open Time</th>\n",
       "      <th>Open</th>\n",
       "      <th>High</th>\n",
       "      <th>Low</th>\n",
       "      <th>Close</th>\n",
       "      <th>Volume</th>\n",
       "      <th>Close Time</th>\n",
       "      <th>Quote asset volume</th>\n",
       "      <th>Number of trades</th>\n",
       "      <th>Taker buy base asset volume</th>\n",
       "      <th>Taker buy quote asset volume</th>\n",
       "    </tr>\n",
       "  </thead>\n",
       "  <tbody>\n",
       "    <tr>\n",
       "      <th>0</th>\n",
       "      <td>1609459200000</td>\n",
       "      <td>28923.63</td>\n",
       "      <td>28961.66</td>\n",
       "      <td>28913.12</td>\n",
       "      <td>28961.66</td>\n",
       "      <td>27.457032</td>\n",
       "      <td>1609459259999</td>\n",
       "      <td>7.943820e+05</td>\n",
       "      <td>1292</td>\n",
       "      <td>16.777195</td>\n",
       "      <td>485390.826825</td>\n",
       "    </tr>\n",
       "    <tr>\n",
       "      <th>1</th>\n",
       "      <td>1609459260000</td>\n",
       "      <td>28961.67</td>\n",
       "      <td>29017.50</td>\n",
       "      <td>28961.01</td>\n",
       "      <td>29009.91</td>\n",
       "      <td>58.477501</td>\n",
       "      <td>1609459319999</td>\n",
       "      <td>1.695803e+06</td>\n",
       "      <td>1651</td>\n",
       "      <td>33.733818</td>\n",
       "      <td>978176.468202</td>\n",
       "    </tr>\n",
       "    <tr>\n",
       "      <th>2</th>\n",
       "      <td>1609459320000</td>\n",
       "      <td>29009.54</td>\n",
       "      <td>29016.71</td>\n",
       "      <td>28973.58</td>\n",
       "      <td>28989.30</td>\n",
       "      <td>42.470329</td>\n",
       "      <td>1609459379999</td>\n",
       "      <td>1.231359e+06</td>\n",
       "      <td>986</td>\n",
       "      <td>13.247444</td>\n",
       "      <td>384076.854453</td>\n",
       "    </tr>\n",
       "    <tr>\n",
       "      <th>3</th>\n",
       "      <td>1609459380000</td>\n",
       "      <td>28989.68</td>\n",
       "      <td>28999.85</td>\n",
       "      <td>28972.33</td>\n",
       "      <td>28982.69</td>\n",
       "      <td>30.360677</td>\n",
       "      <td>1609459439999</td>\n",
       "      <td>8.800168e+05</td>\n",
       "      <td>959</td>\n",
       "      <td>9.456028</td>\n",
       "      <td>274083.075142</td>\n",
       "    </tr>\n",
       "    <tr>\n",
       "      <th>4</th>\n",
       "      <td>1609459440000</td>\n",
       "      <td>28982.67</td>\n",
       "      <td>28995.93</td>\n",
       "      <td>28971.80</td>\n",
       "      <td>28975.65</td>\n",
       "      <td>24.124339</td>\n",
       "      <td>1609459499999</td>\n",
       "      <td>6.992262e+05</td>\n",
       "      <td>726</td>\n",
       "      <td>6.814644</td>\n",
       "      <td>197519.374888</td>\n",
       "    </tr>\n",
       "  </tbody>\n",
       "</table>\n",
       "</div>"
      ],
      "text/plain": [
       "       Open Time      Open      High       Low     Close     Volume  \\\n",
       "0  1609459200000  28923.63  28961.66  28913.12  28961.66  27.457032   \n",
       "1  1609459260000  28961.67  29017.50  28961.01  29009.91  58.477501   \n",
       "2  1609459320000  29009.54  29016.71  28973.58  28989.30  42.470329   \n",
       "3  1609459380000  28989.68  28999.85  28972.33  28982.69  30.360677   \n",
       "4  1609459440000  28982.67  28995.93  28971.80  28975.65  24.124339   \n",
       "\n",
       "      Close Time  Quote asset volume  Number of trades  \\\n",
       "0  1609459259999        7.943820e+05              1292   \n",
       "1  1609459319999        1.695803e+06              1651   \n",
       "2  1609459379999        1.231359e+06               986   \n",
       "3  1609459439999        8.800168e+05               959   \n",
       "4  1609459499999        6.992262e+05               726   \n",
       "\n",
       "   Taker buy base asset volume  Taker buy quote asset volume  \n",
       "0                    16.777195                 485390.826825  \n",
       "1                    33.733818                 978176.468202  \n",
       "2                    13.247444                 384076.854453  \n",
       "3                     9.456028                 274083.075142  \n",
       "4                     6.814644                 197519.374888  "
      ]
     },
     "execution_count": 3,
     "metadata": {},
     "output_type": "execute_result"
    }
   ],
   "source": [
    "df.head(5)"
   ]
  },
  {
   "cell_type": "code",
   "execution_count": 4,
   "id": "53a01f47-2391-4db5-982e-5213576a2f86",
   "metadata": {},
   "outputs": [
    {
     "data": {
      "text/plain": [
       "(188317, 11)"
      ]
     },
     "execution_count": 4,
     "metadata": {},
     "output_type": "execute_result"
    }
   ],
   "source": [
    "df.shape"
   ]
  },
  {
   "cell_type": "code",
   "execution_count": 5,
   "id": "4a977a3b-0fb6-4245-bbde-069295368b05",
   "metadata": {},
   "outputs": [
    {
     "data": {
      "text/plain": [
       "Open Time                         int64\n",
       "Open                            float64\n",
       "High                            float64\n",
       "Low                             float64\n",
       "Close                           float64\n",
       "Volume                          float64\n",
       "Close Time                        int64\n",
       "Quote asset volume              float64\n",
       "Number of trades                  int64\n",
       "Taker buy base asset volume     float64\n",
       "Taker buy quote asset volume    float64\n",
       "dtype: object"
      ]
     },
     "execution_count": 5,
     "metadata": {},
     "output_type": "execute_result"
    }
   ],
   "source": [
    "df.dtypes"
   ]
  },
  {
   "cell_type": "markdown",
   "id": "d1d1db85-a2a1-4b0b-8ea4-d5a9976bf415",
   "metadata": {},
   "source": [
    "### Working with data"
   ]
  },
  {
   "cell_type": "code",
   "execution_count": 6,
   "id": "bbd0b563-947a-439f-a039-710c69dde087",
   "metadata": {},
   "outputs": [],
   "source": [
    "# create a var for desired days to predict\n",
    "\n",
    "days_to_predict = 50\n",
    "\n",
    "df['prediction'] = df[['Open']].shift(-days_to_predict)\n",
    "\n",
    "# converting unix time to a datetime\n",
    "\n",
    "df['Open Time'] = pd.to_datetime(df['Open Time'], unit = 'ms')\n",
    "df['Close Time'] = pd.to_datetime(df['Close Time'], unit = 'ms')\n",
    "\n",
    "# dropping rows of the same day\n",
    "\n",
    "df['Open Time'] = df['Open Time'].dt.date\n",
    "\n",
    "df.drop_duplicates(subset = ['Open Time'])\n",
    "\n",
    "# dropping additional data\n",
    "\n",
    "df.drop_duplicates(subset= ['Open Time'], inplace = True)\n",
    "df.drop(columns = ['Quote asset volume', 'Number of trades', 'Taker buy base asset volume', 'Taker buy quote asset volume'], inplace = True)\n",
    "\n",
    "df.rename(columns = {'Open': 'Open Price $', \n",
    "                    'High': 'High Price $',\n",
    "                    'Low': 'Low Price $',\n",
    "                    'Close': 'Close Price $',\n",
    "                    'prediction': 'Open Prediction $'}, inplace = True)\n",
    "\n",
    "# creating another column for €\n",
    "\n",
    "df['Open Prediction €'] = df['Open Prediction $'] * 0.94\n",
    "\n",
    "df.reset_index(drop = True,inplace = True)"
   ]
  },
  {
   "cell_type": "code",
   "execution_count": 7,
   "id": "7d978862-6785-4217-96d3-40afffb10ad1",
   "metadata": {},
   "outputs": [
    {
     "data": {
      "text/plain": [
       "(132, 9)"
      ]
     },
     "execution_count": 7,
     "metadata": {},
     "output_type": "execute_result"
    }
   ],
   "source": [
    "df.shape"
   ]
  },
  {
   "cell_type": "markdown",
   "id": "243bbe92-b800-4b71-ab68-77f150337636",
   "metadata": {},
   "source": [
    "### Setting up a model"
   ]
  },
  {
   "cell_type": "code",
   "execution_count": 8,
   "id": "8276a04d-957b-4217-ac6e-202091a964d5",
   "metadata": {},
   "outputs": [],
   "source": [
    "# creating another dataset -> X (independent)\n",
    "\n",
    "X = np.array(df[['Open Price $']])\n",
    "X = X [: -days_to_predict]"
   ]
  },
  {
   "cell_type": "code",
   "execution_count": 9,
   "id": "9342b8f3-ca08-4203-ab30-2909b7e70d52",
   "metadata": {},
   "outputs": [],
   "source": [
    "# creating another dataset -> y (dependent)\n",
    "\n",
    "y = np.array(df[['Open Prediction $']])\n",
    "\n",
    "y = y[: -days_to_predict]"
   ]
  },
  {
   "cell_type": "code",
   "execution_count": 10,
   "id": "02c4d68f-f46e-4c0d-941d-8d41d7f5a43d",
   "metadata": {},
   "outputs": [],
   "source": [
    "# splitting data 80 % training 20% testing \n",
    "\n",
    "X_train, X_test, y_train, y_test = train_test_split(X, y, test_size= 0.2)"
   ]
  },
  {
   "cell_type": "code",
   "execution_count": 11,
   "id": "4e3adb34-3dc0-412c-98a7-abbf01d1e001",
   "metadata": {},
   "outputs": [
    {
     "data": {
      "text/plain": [
       "['btc_model.joblib']"
      ]
     },
     "execution_count": 11,
     "metadata": {},
     "output_type": "execute_result"
    }
   ],
   "source": [
    "# model set up\n",
    "\n",
    "model = LinearRegression()\n",
    "\n",
    "model.fit(X_train, y_train)\n",
    "\n",
    "joblib.dump(model, 'btc_model.joblib')"
   ]
  },
  {
   "cell_type": "markdown",
   "id": "f5d3055b-e310-48f4-9aec-79ad017d8e58",
   "metadata": {},
   "source": [
    "### Testing, predicting the result and creating a new dataset"
   ]
  },
  {
   "cell_type": "code",
   "execution_count": 12,
   "id": "4ed0ee26-93c9-461f-a83e-f79abfca010c",
   "metadata": {},
   "outputs": [
    {
     "name": "stdout",
     "output_type": "stream",
     "text": [
      "Score of your model is : 0.9928194449617492\n"
     ]
    }
   ],
   "source": [
    "# testing \n",
    "\n",
    "score = model.score(X_test, y_test)\n",
    "\n",
    "print(f'Score of your model is : {score}')"
   ]
  },
  {
   "cell_type": "code",
   "execution_count": 13,
   "id": "e26354b8-f692-4cb1-9fef-e67abab443fc",
   "metadata": {},
   "outputs": [],
   "source": [
    "x_days_to_predict = np.array(df[['Open Price $']])[-days_to_predict:]\n",
    "time_graph_data = np.array([str(df.iloc[df.shape[0] - x - 1]['Open Time']) for x in range(days_to_predict)])\n",
    "\n",
    "time_graph_data = time_graph_data[::-1]"
   ]
  },
  {
   "cell_type": "code",
   "execution_count": 14,
   "id": "efd1f84c-f7fd-4d17-8f21-034476df177e",
   "metadata": {},
   "outputs": [
    {
     "name": "stdout",
     "output_type": "stream",
     "text": [
      "The prediction for the next 50 days is: \n",
      "day 2021-03-24: 54369.88 $\n",
      "day 2021-03-25: 52329.9 $\n",
      "day 2021-03-26: 51319.61 $\n",
      "day 2021-03-27: 55052.94 $\n",
      "day 2021-03-28: 55844.82 $\n",
      "day 2021-03-29: 55805.31 $\n",
      "day 2021-03-30: 57663.88 $\n",
      "day 2021-03-31: 58775.44 $\n",
      "day 2021-04-01: 58768.33 $\n",
      "day 2021-04-02: 58749.31 $\n",
      "day 2021-04-03: 58978.96 $\n",
      "day 2021-04-04: 57080.13 $\n",
      "day 2021-04-05: 58230.66 $\n",
      "day 2021-04-06: 59159.02 $\n",
      "day 2021-04-07: 58018.59 $\n",
      "day 2021-04-08: 55981.17 $\n",
      "day 2021-04-09: 58106.12 $\n",
      "day 2021-04-10: 58171.17 $\n",
      "day 2021-04-11: 59798.42 $\n",
      "day 2021-04-12: 60028.18 $\n",
      "day 2021-04-13: 59889.33 $\n",
      "day 2021-04-14: 63605.85 $\n",
      "day 2021-04-15: 62990.12 $\n",
      "day 2021-04-16: 63189.41 $\n",
      "day 2021-04-17: 61364.73 $\n",
      "day 2021-04-18: 60036.05 $\n",
      "day 2021-04-19: 56177.82 $\n",
      "day 2021-04-20: 55660.74 $\n",
      "day 2021-04-21: 56452.92 $\n",
      "day 2021-04-22: 53814.47 $\n",
      "day 2021-04-23: 51716.94 $\n",
      "day 2021-04-24: 51136.32 $\n",
      "day 2021-04-25: 50073.17 $\n",
      "day 2021-04-26: 49091.69 $\n",
      "day 2021-04-27: 54028.32 $\n",
      "day 2021-04-28: 55039.32 $\n",
      "day 2021-04-29: 54873.51 $\n",
      "day 2021-04-30: 53581.75 $\n",
      "day 2021-05-01: 57725.69 $\n",
      "day 2021-05-02: 57825.83 $\n",
      "day 2021-05-03: 56606.2 $\n",
      "day 2021-05-04: 57197.62 $\n",
      "day 2021-05-05: 53231.66 $\n",
      "day 2021-05-06: 57464.45 $\n",
      "day 2021-05-07: 56421.59 $\n",
      "day 2021-05-08: 57343.78 $\n",
      "day 2021-05-09: 58895.45 $\n",
      "day 2021-05-10: 58269.49 $\n",
      "day 2021-05-11: 55843.82 $\n",
      "day 2021-05-12: 56698.04 $\n"
     ]
    }
   ],
   "source": [
    "# predicting\n",
    "\n",
    "final_prediction = model.predict(x_days_to_predict)\n",
    "final_prediction = np.round(final_prediction, 2)\n",
    "\n",
    "print(f'The prediction for the next {days_to_predict} days is: ')\n",
    "for index, item in enumerate(final_prediction):\n",
    "    print(f'day {time_graph_data[index]}: {item[0]} $')"
   ]
  },
  {
   "cell_type": "code",
   "execution_count": 15,
   "id": "969f09b4-5988-4631-a5e9-71565570a2e9",
   "metadata": {},
   "outputs": [],
   "source": [
    "# creating a new dataset\n",
    "\n",
    "new_df = pd.DataFrame(columns = ['Open Time', 'Open Price $', 'Open Predicted Price $'])\n",
    "graph_data = [x[0] for x in final_prediction]\n",
    "\n",
    "\n",
    "new_df['Open Time'] = time_graph_data\n",
    "new_df['Open Price $'] = x_days_to_predict\n",
    "new_df['Open Predicted Price $'] = graph_data\n",
    "\n",
    "# exporting to csv\n",
    "\n",
    "new_df.to_csv(r'data/BTC_predicted.csv', index = False)"
   ]
  },
  {
   "cell_type": "markdown",
   "id": "af7a0234-7921-4c40-a133-ada95c633a28",
   "metadata": {},
   "source": [
    "### Visualising result"
   ]
  },
  {
   "cell_type": "code",
   "execution_count": 16,
   "id": "ef2c177e-dbae-4a16-bc3e-3f529be479ae",
   "metadata": {},
   "outputs": [
    {
     "data": {
      "image/png": "[encoded data removed]",
      "text/plain": [
       "<Figure size 432x288 with 1 Axes>"
      ]
     },
     "metadata": {
      "needs_background": "light"
     },
     "output_type": "display_data"
    }
   ],
   "source": [
    "# arrayas \n",
    "\n",
    "days = np.array([x for x in range(days_to_predict)])\n",
    "\n",
    "\n",
    "# graph settings \n",
    "\n",
    "plt.plot(days, graph_data)\n",
    "plt.title('BTC / USD')\n",
    "plt.xlabel('Day')\n",
    "plt.ylabel('USD')\n",
    "plt.plot(days, x_days_to_predict)\n",
    "plt.legend(['predicted BTC', 'BTC'])\n",
    "\n",
    "plt.show()"
   ]
  }
 ],
 "metadata": {
  "kernelspec": {
   "display_name": "Python 3 (ipykernel)",
   "language": "python",
   "name": "python3"
  },
  "language_info": {
   "codemirror_mode": {
    "name": "ipython",
    "version": 3
   },
   "file_extension": ".py",
   "mimetype": "text/x-python",
   "name": "python",
   "nbconvert_exporter": "python",
   "pygments_lexer": "ipython3",
   "version": "3.8.10"
  }
 },
 "nbformat": 4,
 "nbformat_minor": 5
}
